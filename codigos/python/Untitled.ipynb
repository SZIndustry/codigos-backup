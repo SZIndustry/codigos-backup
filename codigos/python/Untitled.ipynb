{
 "cells": [
  {
   "cell_type": "code",
   "execution_count": 6,
   "id": "8ff7042f-8ecf-40a8-a3fa-bab1306eb981",
   "metadata": {},
   "outputs": [
    {
     "name": "stdin",
     "output_type": "stream",
     "text": [
      "Ingresa los números del primer arreglo:  2\n",
      "Ingresa los números del primer arreglo:  3\n",
      "Ingresa los números del primer arreglo:  5\n",
      "Ingresa los números del primer arreglo:  6\n",
      "Ingresa los números del primer arreglo:  7\n",
      "Ingresa los números del segundo arreglo:  3\n",
      "Ingresa los números del segundo arreglo:  5\n",
      "Ingresa los números del segundo arreglo:  6\n",
      "Ingresa los números del segundo arreglo:  7\n",
      "Ingresa los números del segundo arreglo:  8\n"
     ]
    },
    {
     "name": "stdout",
     "output_type": "stream",
     "text": [
      "El resultado es: [6, 15, 30, 42, 56]\n"
     ]
    }
   ],
   "source": [
    "arreglo1 = []\n",
    "arreglo2 = []\n",
    "resultado = []\n",
    "\n",
    "for i in range(5): \n",
    "    num = int(input(\"Ingresa los números del primer arreglo: \"))\n",
    "    arreglo1.append(num)\n",
    "\n",
    "i = 0\n",
    "while i < 5: \n",
    "    num = int(input(\"Ingresa los números del segundo arreglo: \"))\n",
    "    arreglo2.append(num)\n",
    "    i = i + 1\n",
    "\n",
    "for i in range(5): \n",
    "    producto = arreglo1[i] * arreglo2[i]\n",
    "    resultado.append(producto)\n",
    "\n",
    "print(\"El resultado es:\", resultado)\n"
   ]
  },
  {
   "cell_type": "code",
   "execution_count": null,
   "id": "d31206e7-247d-4ef5-a54a-20a301a08e19",
   "metadata": {},
   "outputs": [],
   "source": []
  }
 ],
 "metadata": {
  "kernelspec": {
   "display_name": "Python 3 (ipykernel)",
   "language": "python",
   "name": "python3"
  },
  "language_info": {
   "codemirror_mode": {
    "name": "ipython",
    "version": 3
   },
   "file_extension": ".py",
   "mimetype": "text/x-python",
   "name": "python",
   "nbconvert_exporter": "python",
   "pygments_lexer": "ipython3",
   "version": "3.12.7"
  }
 },
 "nbformat": 4,
 "nbformat_minor": 5
}
