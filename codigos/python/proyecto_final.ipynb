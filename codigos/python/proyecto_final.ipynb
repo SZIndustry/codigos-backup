{
 "cells": [
  {
   "cell_type": "code",
   "execution_count": 21,
   "id": "ec42785c-9143-403a-9338-640940e64715",
   "metadata": {},
   "outputs": [
    {
     "name": "stdin",
     "output_type": "stream",
     "text": [
      "Ingrese la cantidad de números:  5\n",
      "Ingrese el elemento 0:  10\n",
      "Ingrese el elemento 1:  5\n",
      "Ingrese el elemento 2:  8\n",
      "Ingrese el elemento 3:  4\n",
      "Ingrese el elemento 4:  2\n"
     ]
    },
    {
     "name": "stdout",
     "output_type": "stream",
     "text": [
      "El arreglo ordenado es: [2, 4, 5, 8, 10]\n"
     ]
    }
   ],
   "source": [
    "numeros = []\n",
    "tamaño = int(input(\"Ingrese la cantidad de números: \"))\n",
    "\n",
    "for i in range(tamaño):\n",
    "    numeros.append(int(input(f\"Ingrese el elemento {i}: \")))\n",
    "\n",
    "cambio = 1\n",
    "while cambio == 1:\n",
    "    cambio = 0\n",
    "    for i in range(tamaño - 1):\n",
    "        if numeros[i] > numeros[i + 1]:\n",
    "            temp = numeros[i]\n",
    "            numeros[i] = numeros[i + 1]\n",
    "            numeros[i + 1] = temp\n",
    "            cambio = 1\n",
    "\n",
    "print(\"El arreglo ordenado es:\", numeros)\n"
   ]
  },
  {
   "cell_type": "code",
   "execution_count": null,
   "id": "da71a058-7166-495e-b7be-eff4f60a93ce",
   "metadata": {},
   "outputs": [],
   "source": []
  }
 ],
 "metadata": {
  "kernelspec": {
   "display_name": "Python 3 (ipykernel)",
   "language": "python",
   "name": "python3"
  },
  "language_info": {
   "codemirror_mode": {
    "name": "ipython",
    "version": 3
   },
   "file_extension": ".py",
   "mimetype": "text/x-python",
   "name": "python",
   "nbconvert_exporter": "python",
   "pygments_lexer": "ipython3",
   "version": "3.12.7"
  }
 },
 "nbformat": 4,
 "nbformat_minor": 5
}
